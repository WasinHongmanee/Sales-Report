{
    "metadata": {
        "kernelspec": {
            "name": "SQL",
            "display_name": "SQL",
            "language": "sql"
        },
        "language_info": {
            "name": "sql",
            "version": ""
        },
        "extensions": {
            "azuredatastudio": {
                "version": 1,
                "views": []
            }
        }
    },
    "nbformat_minor": 2,
    "nbformat": 4,
    "cells": [
        {
            "cell_type": "markdown",
            "source": [
                "# <u>Sawasdee Dashboard Follow up (December 1st 2021 to January 31st 2022)</u>"
            ],
            "metadata": {
                "azdata_cell_guid": "e46413e4-9dd8-4575-bda9-0a0a1be4e867"
            },
            "attachments": {}
        },
        {
            "cell_type": "markdown",
            "source": [
                "## Checking for duplicates in each table"
            ],
            "metadata": {
                "azdata_cell_guid": "cd73d6cb-f648-48e1-ab81-2177de0d30ed"
            },
            "attachments": {}
        },
        {
            "cell_type": "code",
            "source": [
                "SELECT id,orderID, count(*) as 'Count'\r\n",
                "FROM dbo.OrderPayment\r\n",
                "GROUP BY id,orderId\r\n",
                "HAVING COUNT(*) > 1\r\n",
                "\r\n",
                "SELECT id, count(*) as 'Count'\r\n",
                "FROM dbo.OrderList\r\n",
                "GROUP BY id\r\n",
                "HAVING COUNT(*) > 1"
            ],
            "metadata": {
                "azdata_cell_guid": "ac1e3d98-480d-4702-9c02-744666de26a8",
                "tags": []
            },
            "outputs": [
                {
                    "output_type": "display_data",
                    "data": {
                        "text/html": "(0 rows affected)"
                    },
                    "metadata": {}
                },
                {
                    "output_type": "display_data",
                    "data": {
                        "text/html": "(0 rows affected)"
                    },
                    "metadata": {}
                },
                {
                    "output_type": "display_data",
                    "data": {
                        "text/html": "Total execution time: 00:00:00.009"
                    },
                    "metadata": {}
                },
                {
                    "output_type": "execute_result",
                    "metadata": {},
                    "execution_count": 9,
                    "data": {
                        "application/vnd.dataresource+json": {
                            "schema": {
                                "fields": [
                                    {
                                        "name": "id"
                                    },
                                    {
                                        "name": "orderID"
                                    },
                                    {
                                        "name": "Count"
                                    }
                                ]
                            },
                            "data": []
                        },
                        "text/html": [
                            "<table>",
                            "<tr><th>id</th><th>orderID</th><th>Count</th></tr>",
                            "</table>"
                        ]
                    }
                },
                {
                    "output_type": "execute_result",
                    "metadata": {},
                    "execution_count": 9,
                    "data": {
                        "application/vnd.dataresource+json": {
                            "schema": {
                                "fields": [
                                    {
                                        "name": "id"
                                    },
                                    {
                                        "name": "Count"
                                    }
                                ]
                            },
                            "data": []
                        },
                        "text/html": [
                            "<table>",
                            "<tr><th>id</th><th>Count</th></tr>",
                            "</table>"
                        ]
                    }
                }
            ],
            "execution_count": 9
        },
        {
            "cell_type": "markdown",
            "source": [
                "There are no duplicate id's or orderIDs in the OrderPayment table\n",
                "\n",
                "There are also no duplicate id's in the OrderList table"
            ],
            "metadata": {
                "azdata_cell_guid": "116430ff-7e07-404a-be49-d8a23688222f"
            },
            "attachments": {}
        },
        {
            "cell_type": "markdown",
            "source": [
                "## Looking through each table"
            ],
            "metadata": {
                "azdata_cell_guid": "3f833ba4-3a69-4205-a27c-9745801be82e"
            },
            "attachments": {}
        },
        {
            "cell_type": "code",
            "source": [
                "select top 5 id,OrderId,TotalAmount,FaceAmount,GratuityAmount,TenderAmount,Change,PaidMethodName,CCVendor,CreatedBy,CreatedWhen\r\n",
                "from dbo.OrderPayment\r\n",
                "where CreatedWhen \r\n",
                "BETWEEN CONVERT(datetime,'2021-12-01') AND CONVERT(datetime, '2022-01-31 23:59:59')\r\n",
                "\r\n",
                "select top 5 id,OrderNo,SubTotal,Tax,Total,NumberofGuest,CreatedWhen,OrderType,CreatedBy,TableId \r\n",
                "from dbo.OrderList\r\n",
                "where CreatedWhen \r\n",
                "BETWEEN CONVERT(datetime,'2021-12-01') AND CONVERT(datetime, '2022-01-31 23:59:59')\r\n",
                "\r\n",
                "select * from dbo.OrderType"
            ],
            "metadata": {
                "azdata_cell_guid": "565fadc8-777f-43ff-bab0-8bdcaf3f22be"
            },
            "outputs": [
                {
                    "output_type": "display_data",
                    "data": {
                        "text/html": "(5 rows affected)"
                    },
                    "metadata": {}
                },
                {
                    "output_type": "display_data",
                    "data": {
                        "text/html": "(5 rows affected)"
                    },
                    "metadata": {}
                },
                {
                    "output_type": "display_data",
                    "data": {
                        "text/html": "(7 rows affected)"
                    },
                    "metadata": {}
                },
                {
                    "output_type": "display_data",
                    "data": {
                        "text/html": "Total execution time: 00:00:00.082"
                    },
                    "metadata": {}
                },
                {
                    "output_type": "execute_result",
                    "metadata": {},
                    "execution_count": 17,
                    "data": {
                        "application/vnd.dataresource+json": {
                            "schema": {
                                "fields": [
                                    {
                                        "name": "id"
                                    },
                                    {
                                        "name": "OrderId"
                                    },
                                    {
                                        "name": "TotalAmount"
                                    },
                                    {
                                        "name": "FaceAmount"
                                    },
                                    {
                                        "name": "GratuityAmount"
                                    },
                                    {
                                        "name": "TenderAmount"
                                    },
                                    {
                                        "name": "Change"
                                    },
                                    {
                                        "name": "PaidMethodName"
                                    },
                                    {
                                        "name": "CCVendor"
                                    },
                                    {
                                        "name": "CreatedBy"
                                    },
                                    {
                                        "name": "CreatedWhen"
                                    }
                                ]
                            },
                            "data": [
                                {
                                    "0": "50261943245780518",
                                    "1": "50261943239167508",
                                    "2": "14.1500",
                                    "3": "14.1500",
                                    "4": "3.0000",
                                    "5": "17.1500",
                                    "6": "0.0000",
                                    "7": "Credit Card",
                                    "8": "VISA",
                                    "9": "1003",
                                    "10": "2021-12-02 12:00:45.780"
                                },
                                {
                                    "0": "50261948015474336",
                                    "1": "50261947525481767",
                                    "2": "14.1500",
                                    "3": "14.1500",
                                    "4": "0.0000",
                                    "5": "20.0000",
                                    "6": "5.8500",
                                    "7": "Cash",
                                    "8": "",
                                    "9": "1003",
                                    "10": "2021-12-02 13:20:15.473"
                                },
                                {
                                    "0": "50261950855829811",
                                    "1": "50261947084503598",
                                    "2": "75.6600",
                                    "3": "75.6600",
                                    "4": "13.6200",
                                    "5": "89.2800",
                                    "6": "0.0000",
                                    "7": "Credit Card",
                                    "8": "VISA",
                                    "9": "1003",
                                    "10": "2021-12-02 14:07:35.830"
                                },
                                {
                                    "0": "50261952035971301",
                                    "1": "50261949788196830",
                                    "2": "58.8300",
                                    "3": "58.8300",
                                    "4": "11.1700",
                                    "5": "70.0000",
                                    "6": "0.0000",
                                    "7": "Credit Card",
                                    "8": "VISA",
                                    "9": "1003",
                                    "10": "2021-12-02 14:27:15.970"
                                },
                                {
                                    "0": "50261954685786069",
                                    "1": "50261951127813504",
                                    "2": "51.1800",
                                    "3": "51.1800",
                                    "4": "10.2400",
                                    "5": "61.4200",
                                    "6": "0.0000",
                                    "7": "Credit Card",
                                    "8": "VISA",
                                    "9": "1003",
                                    "10": "2021-12-02 15:11:25.787"
                                }
                            ]
                        },
                        "text/html": [
                            "<table>",
                            "<tr><th>id</th><th>OrderId</th><th>TotalAmount</th><th>FaceAmount</th><th>GratuityAmount</th><th>TenderAmount</th><th>Change</th><th>PaidMethodName</th><th>CCVendor</th><th>CreatedBy</th><th>CreatedWhen</th></tr>",
                            "<tr><td>50261943245780518</td><td>50261943239167508</td><td>14.1500</td><td>14.1500</td><td>3.0000</td><td>17.1500</td><td>0.0000</td><td>Credit Card</td><td>VISA</td><td>1003</td><td>2021-12-02 12:00:45.780</td></tr>",
                            "<tr><td>50261948015474336</td><td>50261947525481767</td><td>14.1500</td><td>14.1500</td><td>0.0000</td><td>20.0000</td><td>5.8500</td><td>Cash</td><td></td><td>1003</td><td>2021-12-02 13:20:15.473</td></tr>",
                            "<tr><td>50261950855829811</td><td>50261947084503598</td><td>75.6600</td><td>75.6600</td><td>13.6200</td><td>89.2800</td><td>0.0000</td><td>Credit Card</td><td>VISA</td><td>1003</td><td>2021-12-02 14:07:35.830</td></tr>",
                            "<tr><td>50261952035971301</td><td>50261949788196830</td><td>58.8300</td><td>58.8300</td><td>11.1700</td><td>70.0000</td><td>0.0000</td><td>Credit Card</td><td>VISA</td><td>1003</td><td>2021-12-02 14:27:15.970</td></tr>",
                            "<tr><td>50261954685786069</td><td>50261951127813504</td><td>51.1800</td><td>51.1800</td><td>10.2400</td><td>61.4200</td><td>0.0000</td><td>Credit Card</td><td>VISA</td><td>1003</td><td>2021-12-02 15:11:25.787</td></tr>",
                            "</table>"
                        ]
                    }
                },
                {
                    "output_type": "execute_result",
                    "metadata": {},
                    "execution_count": 17,
                    "data": {
                        "application/vnd.dataresource+json": {
                            "schema": {
                                "fields": [
                                    {
                                        "name": "id"
                                    },
                                    {
                                        "name": "OrderNo"
                                    },
                                    {
                                        "name": "SubTotal"
                                    },
                                    {
                                        "name": "Tax"
                                    },
                                    {
                                        "name": "Total"
                                    },
                                    {
                                        "name": "NumberofGuest"
                                    },
                                    {
                                        "name": "CreatedWhen"
                                    },
                                    {
                                        "name": "OrderType"
                                    },
                                    {
                                        "name": "CreatedBy"
                                    },
                                    {
                                        "name": "TableId"
                                    }
                                ]
                            },
                            "data": [
                                {
                                    "0": "50261943239167508",
                                    "1": "1",
                                    "2": "12.9500",
                                    "3": "1.2000",
                                    "4": "14.1500",
                                    "5": "0",
                                    "6": "2021-12-02 12:00:39.183",
                                    "7": "4",
                                    "8": "1003",
                                    "9": "0"
                                },
                                {
                                    "0": "50261947084503598",
                                    "1": "3",
                                    "2": "69.2500",
                                    "3": "6.4100",
                                    "4": "75.6600",
                                    "5": "2",
                                    "6": "2021-12-02 13:04:44.527",
                                    "7": "1",
                                    "8": "1003",
                                    "9": "19"
                                },
                                {
                                    "0": "50261947525481767",
                                    "1": "4",
                                    "2": "12.9500",
                                    "3": "1.2000",
                                    "4": "14.1500",
                                    "5": "0",
                                    "6": "2021-12-02 13:12:05.513",
                                    "7": "3",
                                    "8": "1003",
                                    "9": "0"
                                },
                                {
                                    "0": "50261949788196830",
                                    "1": "6",
                                    "2": "53.8500",
                                    "3": "4.9800",
                                    "4": "58.8300",
                                    "5": "2",
                                    "6": "2021-12-02 13:49:48.197",
                                    "7": "1",
                                    "8": "1003",
                                    "9": "7"
                                },
                                {
                                    "0": "50261951127813504",
                                    "1": "7",
                                    "2": "46.8500",
                                    "3": "4.3300",
                                    "4": "51.1800",
                                    "5": "2",
                                    "6": "2021-12-02 14:12:07.830",
                                    "7": "1",
                                    "8": "1003",
                                    "9": "11"
                                }
                            ]
                        },
                        "text/html": [
                            "<table>",
                            "<tr><th>id</th><th>OrderNo</th><th>SubTotal</th><th>Tax</th><th>Total</th><th>NumberofGuest</th><th>CreatedWhen</th><th>OrderType</th><th>CreatedBy</th><th>TableId</th></tr>",
                            "<tr><td>50261943239167508</td><td>1</td><td>12.9500</td><td>1.2000</td><td>14.1500</td><td>0</td><td>2021-12-02 12:00:39.183</td><td>4</td><td>1003</td><td>0</td></tr>",
                            "<tr><td>50261947084503598</td><td>3</td><td>69.2500</td><td>6.4100</td><td>75.6600</td><td>2</td><td>2021-12-02 13:04:44.527</td><td>1</td><td>1003</td><td>19</td></tr>",
                            "<tr><td>50261947525481767</td><td>4</td><td>12.9500</td><td>1.2000</td><td>14.1500</td><td>0</td><td>2021-12-02 13:12:05.513</td><td>3</td><td>1003</td><td>0</td></tr>",
                            "<tr><td>50261949788196830</td><td>6</td><td>53.8500</td><td>4.9800</td><td>58.8300</td><td>2</td><td>2021-12-02 13:49:48.197</td><td>1</td><td>1003</td><td>7</td></tr>",
                            "<tr><td>50261951127813504</td><td>7</td><td>46.8500</td><td>4.3300</td><td>51.1800</td><td>2</td><td>2021-12-02 14:12:07.830</td><td>1</td><td>1003</td><td>11</td></tr>",
                            "</table>"
                        ]
                    }
                },
                {
                    "output_type": "execute_result",
                    "metadata": {},
                    "execution_count": 17,
                    "data": {
                        "application/vnd.dataresource+json": {
                            "schema": {
                                "fields": [
                                    {
                                        "name": "id"
                                    },
                                    {
                                        "name": "AliasName"
                                    },
                                    {
                                        "name": "AliasNameAlt"
                                    },
                                    {
                                        "name": "AliasNameAlt1"
                                    },
                                    {
                                        "name": "IsEnable"
                                    },
                                    {
                                        "name": "IsQuickService"
                                    },
                                    {
                                        "name": "IsEnterNoGuest"
                                    },
                                    {
                                        "name": "PriceSet1"
                                    },
                                    {
                                        "name": "PriceSet2"
                                    },
                                    {
                                        "name": "PriceSet3"
                                    },
                                    {
                                        "name": "PriceSet4"
                                    },
                                    {
                                        "name": "PriceSet5"
                                    },
                                    {
                                        "name": "EventSet1Id"
                                    },
                                    {
                                        "name": "EventSet2Id"
                                    },
                                    {
                                        "name": "EventSet3Id"
                                    },
                                    {
                                        "name": "EventSet4Id"
                                    },
                                    {
                                        "name": "EventSet5Id"
                                    },
                                    {
                                        "name": "MenuSet1Id"
                                    },
                                    {
                                        "name": "MenuSet2Id"
                                    },
                                    {
                                        "name": "MenuSet3Id"
                                    },
                                    {
                                        "name": "MenuSet4Id"
                                    },
                                    {
                                        "name": "MenuSet5Id"
                                    },
                                    {
                                        "name": "IsAutoCharge"
                                    },
                                    {
                                        "name": "MinGuestToAutoCharge"
                                    },
                                    {
                                        "name": "DefaultCharge"
                                    },
                                    {
                                        "name": "IsServiceCharge"
                                    },
                                    {
                                        "name": "IsChargeAfterTax"
                                    },
                                    {
                                        "name": "IsChargeBeforerDiscount"
                                    },
                                    {
                                        "name": "IsExemptTax1"
                                    },
                                    {
                                        "name": "IsExemptTax2"
                                    },
                                    {
                                        "name": "IsExemptTax3"
                                    },
                                    {
                                        "name": "IsEnableTable"
                                    },
                                    {
                                        "name": "IsAllowNotReady"
                                    },
                                    {
                                        "name": "AutoReadyTime"
                                    },
                                    {
                                        "name": "DeliveryChargeDefaultAmt"
                                    },
                                    {
                                        "name": "CompensationDefaultAmt"
                                    },
                                    {
                                        "name": "IsTurnOffDispatcher"
                                    },
                                    {
                                        "name": "IsPromptEnterCustName"
                                    },
                                    {
                                        "name": "PromptAliasName"
                                    },
                                    {
                                        "name": "SysTimeStamp"
                                    },
                                    {
                                        "name": "ReceiptFooter"
                                    },
                                    {
                                        "name": "DonePrintOpt"
                                    },
                                    {
                                        "name": "DonePrintCopy"
                                    },
                                    {
                                        "name": "PayPrintOpt"
                                    },
                                    {
                                        "name": "PayPrintCopy"
                                    },
                                    {
                                        "name": "IsUseServerBank"
                                    },
                                    {
                                        "name": "IsByPassPhoneNo"
                                    },
                                    {
                                        "name": "ChargeAliasName"
                                    },
                                    {
                                        "name": "PackagerPrintOpt"
                                    },
                                    {
                                        "name": "PackagerPrintCopy"
                                    },
                                    {
                                        "name": "DefaultAmountCharge"
                                    },
                                    {
                                        "name": "IsPercentAutoCharge"
                                    },
                                    {
                                        "name": "IsEnablePreAuth"
                                    },
                                    {
                                        "name": "TabPrintOpt"
                                    },
                                    {
                                        "name": "TabPrintCopy"
                                    },
                                    {
                                        "name": "DefaultPreAuthAmount"
                                    },
                                    {
                                        "name": "IsEnableTab"
                                    },
                                    {
                                        "name": "IsAllowChangeAuthAmount"
                                    },
                                    {
                                        "name": "IsEnableFastTab"
                                    },
                                    {
                                        "name": "VoidPreAuthPrintOpt"
                                    },
                                    {
                                        "name": "VoidPreAuthPrintCopy"
                                    },
                                    {
                                        "name": "IsForcedPay"
                                    },
                                    {
                                        "name": "DefaultDiscountID"
                                    }
                                ]
                            },
                            "data": [
                                {
                                    "0": "1",
                                    "1": "Dining",
                                    "2": "",
                                    "3": "",
                                    "4": "1",
                                    "5": "0",
                                    "6": "1",
                                    "7": "0",
                                    "8": "0",
                                    "9": "0",
                                    "10": "0",
                                    "11": "0",
                                    "12": "0",
                                    "13": "0",
                                    "14": "0",
                                    "15": "0",
                                    "16": "0",
                                    "17": "1",
                                    "18": "0",
                                    "19": "0",
                                    "20": "0",
                                    "21": "0",
                                    "22": "1",
                                    "23": "6.0000",
                                    "24": "18.0000",
                                    "25": "1",
                                    "26": "0",
                                    "27": "1",
                                    "28": "0",
                                    "29": "0",
                                    "30": "0",
                                    "31": "1",
                                    "32": "1",
                                    "33": "0.0000",
                                    "34": "0.0000",
                                    "35": "0.0000",
                                    "36": "0",
                                    "37": "0",
                                    "38": "Enter Information",
                                    "39": "T202103302146320000",
                                    "40": "THANK YOU!!!\r\n",
                                    "41": "0",
                                    "42": "1",
                                    "43": "0",
                                    "44": "1",
                                    "45": "0",
                                    "46": "0",
                                    "47": "",
                                    "48": "1",
                                    "49": "1",
                                    "50": "0.0000",
                                    "51": "1",
                                    "52": "0",
                                    "53": "0",
                                    "54": "1",
                                    "55": "0.0000",
                                    "56": "1",
                                    "57": "0",
                                    "58": "0",
                                    "59": "1",
                                    "60": "1",
                                    "61": "0",
                                    "62": "0"
                                },
                                {
                                    "0": "2",
                                    "1": "",
                                    "2": "",
                                    "3": "",
                                    "4": "1",
                                    "5": "0",
                                    "6": "0",
                                    "7": "0",
                                    "8": "0",
                                    "9": "0",
                                    "10": "0",
                                    "11": "0",
                                    "12": "0",
                                    "13": "0",
                                    "14": "0",
                                    "15": "0",
                                    "16": "0",
                                    "17": "1",
                                    "18": "0",
                                    "19": "0",
                                    "20": "0",
                                    "21": "0",
                                    "22": "0",
                                    "23": "0.0000",
                                    "24": "0.0000",
                                    "25": "0",
                                    "26": "0",
                                    "27": "0",
                                    "28": "0",
                                    "29": "0",
                                    "30": "0",
                                    "31": "0",
                                    "32": "0",
                                    "33": "0.0000",
                                    "34": "0.0000",
                                    "35": "0.0000",
                                    "36": "1",
                                    "37": "0",
                                    "38": "",
                                    "39": "T202201181034580120",
                                    "40": "THANK YOU!!!\r\n",
                                    "41": "1",
                                    "42": "1",
                                    "43": "0",
                                    "44": "1",
                                    "45": "1",
                                    "46": "0",
                                    "47": "",
                                    "48": "1",
                                    "49": "1",
                                    "50": "0.0000",
                                    "51": "1",
                                    "52": "0",
                                    "53": "0",
                                    "54": "1",
                                    "55": "0.0000",
                                    "56": "1",
                                    "57": "0",
                                    "58": "0",
                                    "59": "1",
                                    "60": "1",
                                    "61": "0",
                                    "62": "0"
                                },
                                {
                                    "0": "3",
                                    "1": "TAKE OUT",
                                    "2": "",
                                    "3": "",
                                    "4": "1",
                                    "5": "0",
                                    "6": "0",
                                    "7": "0",
                                    "8": "0",
                                    "9": "0",
                                    "10": "0",
                                    "11": "0",
                                    "12": "0",
                                    "13": "0",
                                    "14": "0",
                                    "15": "0",
                                    "16": "0",
                                    "17": "1",
                                    "18": "0",
                                    "19": "0",
                                    "20": "0",
                                    "21": "0",
                                    "22": "0",
                                    "23": "0.0000",
                                    "24": "0.0000",
                                    "25": "1",
                                    "26": "0",
                                    "27": "0",
                                    "28": "0",
                                    "29": "0",
                                    "30": "0",
                                    "31": "0",
                                    "32": "0",
                                    "33": "0.0000",
                                    "34": "0.0000",
                                    "35": "0.0000",
                                    "36": "0",
                                    "37": "0",
                                    "38": "",
                                    "39": "T201905291709461190",
                                    "40": "THANK YOU!!!\r\n",
                                    "41": "1",
                                    "42": "1",
                                    "43": "0",
                                    "44": "1",
                                    "45": "0",
                                    "46": "0",
                                    "47": "",
                                    "48": "1",
                                    "49": "1",
                                    "50": "0.0000",
                                    "51": "1",
                                    "52": "0",
                                    "53": "0",
                                    "54": "1",
                                    "55": "0.0000",
                                    "56": "1",
                                    "57": "0",
                                    "58": "0",
                                    "59": "1",
                                    "60": "1",
                                    "61": "0",
                                    "62": "0"
                                },
                                {
                                    "0": "4",
                                    "1": "WALK IN",
                                    "2": "",
                                    "3": "",
                                    "4": "1",
                                    "5": "0",
                                    "6": "0",
                                    "7": "0",
                                    "8": "0",
                                    "9": "0",
                                    "10": "0",
                                    "11": "0",
                                    "12": "0",
                                    "13": "0",
                                    "14": "0",
                                    "15": "0",
                                    "16": "0",
                                    "17": "1",
                                    "18": "0",
                                    "19": "0",
                                    "20": "0",
                                    "21": "0",
                                    "22": "0",
                                    "23": "0.0000",
                                    "24": "0.0000",
                                    "25": "1",
                                    "26": "0",
                                    "27": "0",
                                    "28": "0",
                                    "29": "0",
                                    "30": "0",
                                    "31": "0",
                                    "32": "0",
                                    "33": "0.0000",
                                    "34": "0.0000",
                                    "35": "0.0000",
                                    "36": "0",
                                    "37": "1",
                                    "38": "Enter Customer Name",
                                    "39": "T201905291709422863",
                                    "40": "THANK YOU!!!\r\n",
                                    "41": "1",
                                    "42": "1",
                                    "43": "0",
                                    "44": "1",
                                    "45": "0",
                                    "46": "0",
                                    "47": "",
                                    "48": "1",
                                    "49": "1",
                                    "50": "0.0000",
                                    "51": "1",
                                    "52": "0",
                                    "53": "0",
                                    "54": "1",
                                    "55": "0.0000",
                                    "56": "1",
                                    "57": "0",
                                    "58": "0",
                                    "59": "1",
                                    "60": "1",
                                    "61": "0",
                                    "62": "0"
                                },
                                {
                                    "0": "5",
                                    "1": "",
                                    "2": "",
                                    "3": "",
                                    "4": "1",
                                    "5": "0",
                                    "6": "0",
                                    "7": "0",
                                    "8": "0",
                                    "9": "0",
                                    "10": "0",
                                    "11": "0",
                                    "12": "0",
                                    "13": "0",
                                    "14": "0",
                                    "15": "0",
                                    "16": "0",
                                    "17": "1",
                                    "18": "0",
                                    "19": "0",
                                    "20": "0",
                                    "21": "0",
                                    "22": "0",
                                    "23": "0.0000",
                                    "24": "0.0000",
                                    "25": "0",
                                    "26": "0",
                                    "27": "0",
                                    "28": "0",
                                    "29": "0",
                                    "30": "0",
                                    "31": "0",
                                    "32": "0",
                                    "33": "0.0000",
                                    "34": "0.0000",
                                    "35": "0.0000",
                                    "36": "0",
                                    "37": "0",
                                    "38": "",
                                    "39": "T201905211002036016",
                                    "40": "",
                                    "41": "1",
                                    "42": "1",
                                    "43": "1",
                                    "44": "1",
                                    "45": "0",
                                    "46": "0",
                                    "47": "",
                                    "48": "0",
                                    "49": "1",
                                    "50": "0.0000",
                                    "51": "1",
                                    "52": "0",
                                    "53": "0",
                                    "54": "1",
                                    "55": "0.0000",
                                    "56": "1",
                                    "57": "0",
                                    "58": "0",
                                    "59": "1",
                                    "60": "1",
                                    "61": "0",
                                    "62": "0"
                                },
                                {
                                    "0": "62",
                                    "1": "",
                                    "2": "",
                                    "3": "",
                                    "4": "1",
                                    "5": "0",
                                    "6": "0",
                                    "7": "0",
                                    "8": "0",
                                    "9": "0",
                                    "10": "0",
                                    "11": "0",
                                    "12": "0",
                                    "13": "0",
                                    "14": "0",
                                    "15": "0",
                                    "16": "0",
                                    "17": "1",
                                    "18": "0",
                                    "19": "0",
                                    "20": "0",
                                    "21": "0",
                                    "22": "0",
                                    "23": "0.0000",
                                    "24": "0.0000",
                                    "25": "0",
                                    "26": "0",
                                    "27": "0",
                                    "28": "0",
                                    "29": "0",
                                    "30": "0",
                                    "31": "0",
                                    "32": "1",
                                    "33": "0.0000",
                                    "34": "0.0000",
                                    "35": "0.0000",
                                    "36": "1",
                                    "37": "0",
                                    "38": "",
                                    "39": "T202201181034580120",
                                    "40": "THANK YOU!!!\r\n",
                                    "41": "1",
                                    "42": "1",
                                    "43": "0",
                                    "44": "1",
                                    "45": "1",
                                    "46": "0",
                                    "47": "",
                                    "48": "1",
                                    "49": "1",
                                    "50": "0.0000",
                                    "51": "1",
                                    "52": "0",
                                    "53": "0",
                                    "54": "1",
                                    "55": "0.0000",
                                    "56": "1",
                                    "57": "0",
                                    "58": "0",
                                    "59": "1",
                                    "60": "1",
                                    "61": "0",
                                    "62": "0"
                                },
                                {
                                    "0": "63",
                                    "1": "TAKE OUT",
                                    "2": "",
                                    "3": "",
                                    "4": "1",
                                    "5": "0",
                                    "6": "0",
                                    "7": "0",
                                    "8": "0",
                                    "9": "0",
                                    "10": "0",
                                    "11": "0",
                                    "12": "0",
                                    "13": "0",
                                    "14": "0",
                                    "15": "0",
                                    "16": "0",
                                    "17": "1",
                                    "18": "0",
                                    "19": "0",
                                    "20": "0",
                                    "21": "0",
                                    "22": "0",
                                    "23": "0.0000",
                                    "24": "0.0000",
                                    "25": "1",
                                    "26": "0",
                                    "27": "0",
                                    "28": "0",
                                    "29": "0",
                                    "30": "0",
                                    "31": "0",
                                    "32": "1",
                                    "33": "0.0000",
                                    "34": "0.0000",
                                    "35": "0.0000",
                                    "36": "0",
                                    "37": "0",
                                    "38": "",
                                    "39": "T201905291709461190",
                                    "40": "THANK YOU!!!\r\n",
                                    "41": "1",
                                    "42": "1",
                                    "43": "0",
                                    "44": "1",
                                    "45": "0",
                                    "46": "0",
                                    "47": "",
                                    "48": "1",
                                    "49": "1",
                                    "50": "0.0000",
                                    "51": "1",
                                    "52": "0",
                                    "53": "0",
                                    "54": "1",
                                    "55": "0.0000",
                                    "56": "1",
                                    "57": "0",
                                    "58": "0",
                                    "59": "1",
                                    "60": "1",
                                    "61": "0",
                                    "62": "0"
                                }
                            ]
                        },
                        "text/html": [
                            "<table>",
                            "<tr><th>id</th><th>AliasName</th><th>AliasNameAlt</th><th>AliasNameAlt1</th><th>IsEnable</th><th>IsQuickService</th><th>IsEnterNoGuest</th><th>PriceSet1</th><th>PriceSet2</th><th>PriceSet3</th><th>PriceSet4</th><th>PriceSet5</th><th>EventSet1Id</th><th>EventSet2Id</th><th>EventSet3Id</th><th>EventSet4Id</th><th>EventSet5Id</th><th>MenuSet1Id</th><th>MenuSet2Id</th><th>MenuSet3Id</th><th>MenuSet4Id</th><th>MenuSet5Id</th><th>IsAutoCharge</th><th>MinGuestToAutoCharge</th><th>DefaultCharge</th><th>IsServiceCharge</th><th>IsChargeAfterTax</th><th>IsChargeBeforerDiscount</th><th>IsExemptTax1</th><th>IsExemptTax2</th><th>IsExemptTax3</th><th>IsEnableTable</th><th>IsAllowNotReady</th><th>AutoReadyTime</th><th>DeliveryChargeDefaultAmt</th><th>CompensationDefaultAmt</th><th>IsTurnOffDispatcher</th><th>IsPromptEnterCustName</th><th>PromptAliasName</th><th>SysTimeStamp</th><th>ReceiptFooter</th><th>DonePrintOpt</th><th>DonePrintCopy</th><th>PayPrintOpt</th><th>PayPrintCopy</th><th>IsUseServerBank</th><th>IsByPassPhoneNo</th><th>ChargeAliasName</th><th>PackagerPrintOpt</th><th>PackagerPrintCopy</th><th>DefaultAmountCharge</th><th>IsPercentAutoCharge</th><th>IsEnablePreAuth</th><th>TabPrintOpt</th><th>TabPrintCopy</th><th>DefaultPreAuthAmount</th><th>IsEnableTab</th><th>IsAllowChangeAuthAmount</th><th>IsEnableFastTab</th><th>VoidPreAuthPrintOpt</th><th>VoidPreAuthPrintCopy</th><th>IsForcedPay</th><th>DefaultDiscountID</th></tr>",
                            "<tr><td>1</td><td>Dining</td><td></td><td></td><td>1</td><td>0</td><td>1</td><td>0</td><td>0</td><td>0</td><td>0</td><td>0</td><td>0</td><td>0</td><td>0</td><td>0</td><td>0</td><td>1</td><td>0</td><td>0</td><td>0</td><td>0</td><td>1</td><td>6.0000</td><td>18.0000</td><td>1</td><td>0</td><td>1</td><td>0</td><td>0</td><td>0</td><td>1</td><td>1</td><td>0.0000</td><td>0.0000</td><td>0.0000</td><td>0</td><td>0</td><td>Enter Information</td><td>T202103302146320000</td><td>THANK YOU!!!\r\n</td><td>0</td><td>1</td><td>0</td><td>1</td><td>0</td><td>0</td><td></td><td>1</td><td>1</td><td>0.0000</td><td>1</td><td>0</td><td>0</td><td>1</td><td>0.0000</td><td>1</td><td>0</td><td>0</td><td>1</td><td>1</td><td>0</td><td>0</td></tr>",
                            "<tr><td>2</td><td></td><td></td><td></td><td>1</td><td>0</td><td>0</td><td>0</td><td>0</td><td>0</td><td>0</td><td>0</td><td>0</td><td>0</td><td>0</td><td>0</td><td>0</td><td>1</td><td>0</td><td>0</td><td>0</td><td>0</td><td>0</td><td>0.0000</td><td>0.0000</td><td>0</td><td>0</td><td>0</td><td>0</td><td>0</td><td>0</td><td>0</td><td>0</td><td>0.0000</td><td>0.0000</td><td>0.0000</td><td>1</td><td>0</td><td></td><td>T202201181034580120</td><td>THANK YOU!!!\r\n</td><td>1</td><td>1</td><td>0</td><td>1</td><td>1</td><td>0</td><td></td><td>1</td><td>1</td><td>0.0000</td><td>1</td><td>0</td><td>0</td><td>1</td><td>0.0000</td><td>1</td><td>0</td><td>0</td><td>1</td><td>1</td><td>0</td><td>0</td></tr>",
                            "<tr><td>3</td><td>TAKE OUT</td><td></td><td></td><td>1</td><td>0</td><td>0</td><td>0</td><td>0</td><td>0</td><td>0</td><td>0</td><td>0</td><td>0</td><td>0</td><td>0</td><td>0</td><td>1</td><td>0</td><td>0</td><td>0</td><td>0</td><td>0</td><td>0.0000</td><td>0.0000</td><td>1</td><td>0</td><td>0</td><td>0</td><td>0</td><td>0</td><td>0</td><td>0</td><td>0.0000</td><td>0.0000</td><td>0.0000</td><td>0</td><td>0</td><td></td><td>T201905291709461190</td><td>THANK YOU!!!\r\n</td><td>1</td><td>1</td><td>0</td><td>1</td><td>0</td><td>0</td><td></td><td>1</td><td>1</td><td>0.0000</td><td>1</td><td>0</td><td>0</td><td>1</td><td>0.0000</td><td>1</td><td>0</td><td>0</td><td>1</td><td>1</td><td>0</td><td>0</td></tr>",
                            "<tr><td>4</td><td>WALK IN</td><td></td><td></td><td>1</td><td>0</td><td>0</td><td>0</td><td>0</td><td>0</td><td>0</td><td>0</td><td>0</td><td>0</td><td>0</td><td>0</td><td>0</td><td>1</td><td>0</td><td>0</td><td>0</td><td>0</td><td>0</td><td>0.0000</td><td>0.0000</td><td>1</td><td>0</td><td>0</td><td>0</td><td>0</td><td>0</td><td>0</td><td>0</td><td>0.0000</td><td>0.0000</td><td>0.0000</td><td>0</td><td>1</td><td>Enter Customer Name</td><td>T201905291709422863</td><td>THANK YOU!!!\r\n</td><td>1</td><td>1</td><td>0</td><td>1</td><td>0</td><td>0</td><td></td><td>1</td><td>1</td><td>0.0000</td><td>1</td><td>0</td><td>0</td><td>1</td><td>0.0000</td><td>1</td><td>0</td><td>0</td><td>1</td><td>1</td><td>0</td><td>0</td></tr>",
                            "<tr><td>5</td><td></td><td></td><td></td><td>1</td><td>0</td><td>0</td><td>0</td><td>0</td><td>0</td><td>0</td><td>0</td><td>0</td><td>0</td><td>0</td><td>0</td><td>0</td><td>1</td><td>0</td><td>0</td><td>0</td><td>0</td><td>0</td><td>0.0000</td><td>0.0000</td><td>0</td><td>0</td><td>0</td><td>0</td><td>0</td><td>0</td><td>0</td><td>0</td><td>0.0000</td><td>0.0000</td><td>0.0000</td><td>0</td><td>0</td><td></td><td>T201905211002036016</td><td></td><td>1</td><td>1</td><td>1</td><td>1</td><td>0</td><td>0</td><td></td><td>0</td><td>1</td><td>0.0000</td><td>1</td><td>0</td><td>0</td><td>1</td><td>0.0000</td><td>1</td><td>0</td><td>0</td><td>1</td><td>1</td><td>0</td><td>0</td></tr>",
                            "<tr><td>62</td><td></td><td></td><td></td><td>1</td><td>0</td><td>0</td><td>0</td><td>0</td><td>0</td><td>0</td><td>0</td><td>0</td><td>0</td><td>0</td><td>0</td><td>0</td><td>1</td><td>0</td><td>0</td><td>0</td><td>0</td><td>0</td><td>0.0000</td><td>0.0000</td><td>0</td><td>0</td><td>0</td><td>0</td><td>0</td><td>0</td><td>0</td><td>1</td><td>0.0000</td><td>0.0000</td><td>0.0000</td><td>1</td><td>0</td><td></td><td>T202201181034580120</td><td>THANK YOU!!!\r\n</td><td>1</td><td>1</td><td>0</td><td>1</td><td>1</td><td>0</td><td></td><td>1</td><td>1</td><td>0.0000</td><td>1</td><td>0</td><td>0</td><td>1</td><td>0.0000</td><td>1</td><td>0</td><td>0</td><td>1</td><td>1</td><td>0</td><td>0</td></tr>",
                            "<tr><td>63</td><td>TAKE OUT</td><td></td><td></td><td>1</td><td>0</td><td>0</td><td>0</td><td>0</td><td>0</td><td>0</td><td>0</td><td>0</td><td>0</td><td>0</td><td>0</td><td>0</td><td>1</td><td>0</td><td>0</td><td>0</td><td>0</td><td>0</td><td>0.0000</td><td>0.0000</td><td>1</td><td>0</td><td>0</td><td>0</td><td>0</td><td>0</td><td>0</td><td>1</td><td>0.0000</td><td>0.0000</td><td>0.0000</td><td>0</td><td>0</td><td></td><td>T201905291709461190</td><td>THANK YOU!!!\r\n</td><td>1</td><td>1</td><td>0</td><td>1</td><td>0</td><td>0</td><td></td><td>1</td><td>1</td><td>0.0000</td><td>1</td><td>0</td><td>0</td><td>1</td><td>0.0000</td><td>1</td><td>0</td><td>0</td><td>1</td><td>1</td><td>0</td><td>0</td></tr>",
                            "</table>"
                        ]
                    }
                }
            ],
            "execution_count": 17
        },
        {
            "cell_type": "markdown",
            "source": [
                "OrderId from OrderPayment table corresponds to Id from the OrderList table. This will be important when we need to check what order type each order is. FaceAmount from the OrderPayment table is used when people split a check. It will be useful when we sum up the sales. Whether or not customers use Cash or Credit Card most likely will not be a good indicator of any business decisions, therefore we won't be focusing on it.\n",
                "\n",
                "The OrderType table will be used to check the names for each order type. We can join this table with the OrderList table to computationally what the type of order is. A problem with this table is that there are three blank AliasNames and there's two id's for 'TAKE OUT'. We're going to have to figure out what these are.\n",
                "\n",
                "Later found: \n",
                "\n",
                "OrderList.OrderType names by number are: TakeOut ==  '63, 3', WalkIn = Order Type '4', Dining == '1', Online Delivery == '62'\n",
                "\n",
                "There are two OrderType '5' made in early 2020 but hasn't been seen since. It is most likely some type of test order made by our tech support"
            ],
            "metadata": {
                "azdata_cell_guid": "77544858-279c-48cd-ac02-ae38d7d7d33e"
            },
            "attachments": {}
        },
        {
            "cell_type": "markdown",
            "source": [
                "## Breaking down the number of orders by order types"
            ],
            "metadata": {
                "azdata_cell_guid": "d97c6232-da4e-49c2-8510-3f34c3ae113b"
            },
            "attachments": {}
        },
        {
            "cell_type": "code",
            "source": [
                "WiTH\r\n",
                "\tOnlineOrderCount\r\n",
                "\tAS\r\n",
                "\t(\r\n",
                "\t\tselect count(*) as 'Online Pick-up Count'\r\n",
                "\t\tfrom dbo.OrderPayment\r\n",
                "\t\t\tjoin dbo.OrderList on\r\n",
                "\tOrderPayment.OrderId = OrderList.id\r\n",
                "\t\twhere OrderPayment.CreatedWhen \r\n",
                "\tBETWEEN CONVERT(datetime,'2021-12-01') AND CONVERT(datetime, '2022-01-31 23:59:59')\r\n",
                "\t\t\tand PaidMethodName = 'Online Payment'\r\n",
                "\t\t\tand OrderList.OrderType = '63'\r\n",
                "\t),\r\n",
                "\r\n",
                "\tCountOrderTypes\r\n",
                "\tAS\r\n",
                "\t(\r\n",
                "\t\tselect\r\n",
                "\t\t\tcount(*) as 'Order Count',\r\n",
                "\t\t\tOrderType.AliasName as Name,\r\n",
                "\t\t\tOrderDetails.OrderType as 'Order Type'\r\n",
                "\t\tfrom dbo.OrderList as OrderDetails\r\n",
                "\t\t\tinner join dbo.OrderType on\r\n",
                "\tOrderDetails.OrderType = OrderType.id\r\n",
                "\t\t\tinner join dbo.OrderPayment on\r\n",
                "\tOrderPayment.OrderId = OrderDetails.id\r\n",
                "\t\twhere OrderPayment.CreatedWhen \r\n",
                "\tBETWEEN CONVERT(datetime,'2021-12-01') AND CONVERT(datetime, '2022-01-31 23:59:59')\r\n",
                "\t\tgroup by OrderDetails.OrderType, OrderType.AliasName, OrderDetails.OrderType\r\n",
                "\t)\r\n",
                "\r\n",
                "select\r\n",
                "\tSUM(CASE WHEN Name = 'TAKE OUT' or Name = 'Walk In' THEN \"Order Count\" ELSE 0 END) - OnlineOrderCount.[Online Pick-up Count] as 'Combined Take Out',\r\n",
                "\tSUM(CASE WHEN Name = 'Dining' THEN \"Order Count\" ELSE 0 END) as 'Dining',\r\n",
                "\tSUM(CASE WHEN Name = '' THEN \"Order Count\" ELSE 0 END) as 'Online Delivery',\r\n",
                "\t[Online Pick-up Count] as 'Online Pick-Up Orders'\r\n",
                "from CountOrderTypes, OnlineOrderCount\r\n",
                "group by [Online Pick-up Count];"
            ],
            "metadata": {
                "azdata_cell_guid": "0575c937-5ace-4856-ac13-9c8c5c1a0523"
            },
            "outputs": [
                {
                    "output_type": "display_data",
                    "data": {
                        "text/html": "(1 row affected)"
                    },
                    "metadata": {}
                },
                {
                    "output_type": "display_data",
                    "data": {
                        "text/html": "Total execution time: 00:00:01.037"
                    },
                    "metadata": {}
                },
                {
                    "output_type": "execute_result",
                    "execution_count": 39,
                    "data": {
                        "application/vnd.dataresource+json": {
                            "schema": {
                                "fields": [
                                    {
                                        "name": "Combined Take Out"
                                    },
                                    {
                                        "name": "Dining"
                                    },
                                    {
                                        "name": "Online Delivery"
                                    },
                                    {
                                        "name": "Online Pick-Up Orders"
                                    }
                                ]
                            },
                            "data": [
                                {
                                    "0": "738",
                                    "1": "1001",
                                    "2": "22",
                                    "3": "278"
                                }
                            ]
                        },
                        "text/html": "<table><tr><th>Combined Take Out</th><th>Dining</th><th>Online Delivery</th><th>Online Pick-Up Orders</th></tr><tr><td>738</td><td>1001</td><td>22</td><td>278</td></tr></table>"
                    },
                    "metadata": {}
                }
            ],
            "execution_count": 39
        },
        {
            "cell_type": "markdown",
            "source": [
                "Using the same two CTEs, we can write a statement that takes half the time a different way using union and subquerying in the 'FROM' clause."
            ],
            "metadata": {
                "azdata_cell_guid": "a90f3b98-ccb9-449b-8a55-daaddfdb5896"
            },
            "attachments": {}
        },
        {
            "cell_type": "code",
            "source": [
                "WITH\r\n",
                "    OnlineOrderCount\r\n",
                "    AS\r\n",
                "    (\r\n",
                "        select count(*) as 'Online Pick-up Count'\r\n",
                "        from dbo.OrderPayment\r\n",
                "            join dbo.OrderList on\r\n",
                "\tOrderPayment.OrderId = OrderList.id\r\n",
                "        where OrderPayment.CreatedWhen \r\n",
                "\tBETWEEN CONVERT(datetime,'2021-12-01') AND CONVERT(datetime, '2022-01-31 23:59:59')\r\n",
                "            and PaidMethodName = 'Online Payment'\r\n",
                "            and OrderList.OrderType = '63'\r\n",
                "    ),\r\n",
                "\r\n",
                "    CountOrderTypes\r\n",
                "    AS\r\n",
                "    (\r\n",
                "        select\r\n",
                "            count(*) as 'Order Count',\r\n",
                "            OrderType.AliasName as Name,\r\n",
                "            OrderDetails.OrderType as 'Order Type'\r\n",
                "        from dbo.OrderList as OrderDetails\r\n",
                "            inner join dbo.OrderType on\r\n",
                "\tOrderDetails.OrderType = OrderType.id\r\n",
                "            inner join dbo.OrderPayment on\r\n",
                "\tOrderPayment.OrderId = OrderDetails.id\r\n",
                "        where OrderPayment.CreatedWhen \r\n",
                "\tBETWEEN CONVERT(datetime,'2021-12-01') AND CONVERT(datetime, '2022-01-31 23:59:59')\r\n",
                "        group by OrderDetails.OrderType, OrderType.AliasName, OrderDetails.OrderType\r\n",
                "    )\r\n",
                "select sum(\"Combined Take Out\" - \"Online Pick-up Count\") as 'Combined Take Out', sum(\"Dining\") as 'Dining',\r\n",
                "    sum(\"Online Delivery\") as 'Online Delivery', sum(\"Online Pick-up Count\") as 'Online Pick-up Count'\r\n",
                "from (\r\n",
                "        select\r\n",
                "            SUM(CASE WHEN Name = 'TAKE OUT' or Name = 'Walk In' THEN \"Order Count\" ELSE 0 END) as 'Combined Take Out',\r\n",
                "            SUM(CASE WHEN Name = 'Dining' THEN \"Order Count\" ELSE 0 END) as 'Dining',\r\n",
                "            SUM(CASE WHEN Name = '' THEN \"Order Count\" ELSE 0 END) as 'Online Delivery',\r\n",
                "            0 as 'Online Pick-up Count'\r\n",
                "        from CountOrderTypes\r\n",
                "    union\r\n",
                "        select 0, 0, 0, [Online Pick-up Count]\r\n",
                "        from OnlineOrderCount) unionsubquery"
            ],
            "metadata": {
                "azdata_cell_guid": "b62517a0-bc6a-4bd6-8e94-e82ad9219946"
            },
            "outputs": [
                {
                    "output_type": "display_data",
                    "data": {
                        "text/html": "(1 row affected)"
                    },
                    "metadata": {}
                },
                {
                    "output_type": "display_data",
                    "data": {
                        "text/html": "Total execution time: 00:00:00.027"
                    },
                    "metadata": {}
                },
                {
                    "output_type": "execute_result",
                    "execution_count": 38,
                    "data": {
                        "application/vnd.dataresource+json": {
                            "schema": {
                                "fields": [
                                    {
                                        "name": "Combined Take Out"
                                    },
                                    {
                                        "name": "Dining"
                                    },
                                    {
                                        "name": "Online Delivery"
                                    },
                                    {
                                        "name": "Online Pick-up Count"
                                    }
                                ]
                            },
                            "data": [
                                {
                                    "0": "738",
                                    "1": "1001",
                                    "2": "22",
                                    "3": "278"
                                }
                            ]
                        },
                        "text/html": "<table><tr><th>Combined Take Out</th><th>Dining</th><th>Online Delivery</th><th>Online Pick-up Count</th></tr><tr><td>738</td><td>1001</td><td>22</td><td>278</td></tr></table>"
                    },
                    "metadata": {}
                }
            ],
            "execution_count": 38
        },
        {
            "cell_type": "markdown",
            "source": [
                "Notes: \n",
                "\n",
                "I subtracted the number of online pickup from the total take out orders and created a new column for it since order type 63 shares both regular take out orders and online pick-up orders\n",
                "\n",
                "OrderList includes online orders as take out, so we must look at the OrderPayment table to get the number of Online Orders.  \n",
                "\n",
                "Results:\n",
                "\n",
                "Order from most popular to least popular: Dining(1001) \\> Walk In + Both 'Take Out's (738) \\> Online Pick-Up (278) \\> Online Delivery (22)\n",
                "\n",
                "The combination of take out orders and online pick up orders has now superseded dining as the most popular ordering method."
            ],
            "metadata": {
                "azdata_cell_guid": "a52172e2-57be-4edf-b748-c1fe9d5bd4e2"
            },
            "attachments": {}
        },
        {
            "cell_type": "markdown",
            "source": [
                "## Finding tip amounts and percentages by order types"
            ],
            "metadata": {
                "azdata_cell_guid": "8d48c937-5ff1-404b-8283-5d6fad3a125b"
            },
            "attachments": {}
        },
        {
            "cell_type": "code",
            "source": [
                "select cast(sum(case when [Avg Online Pick-up Tips] is not null then t1.[Avg Online Pick-up Tips] Else 0 END) as decimal(18,2)) as 'Avg Online Pick-up Tips' , --cast as deciminal is used to truncate decimals past 2 places\r\n",
                "    cast(sum(case when [Avg Online Pick-up Tips Percentage] is not null then [Avg Online Pick-up Tips Percentage] Else 0 END) as decimal(18,2)) as 'Avg Online Pick-up Tips Percentage',\r\n",
                "    cast(sum(case when [Take Out Avg Tip Amount] is not null then [Take Out Avg Tip Amount] Else 0 END) as decimal(18,2))  as 'Take Out Avg Tip Amount',\r\n",
                "    cast(sum(case when [Take Out Avg Tip Percentage] is not null then [Take Out Avg Tip Percentage] Else 0 END) as decimal(18,2))  as 'Take Out Avg Tip Percentage',\r\n",
                "    cast(sum(case when [Dine In Avg Tip Amount] is not null then [Dine In Avg Tip Amount] Else 0 END) as decimal(18,2))  as 'Dine In Avg Tip Amount',\r\n",
                "    cast(sum(case when [Dine In Avg Tip Percentage] is not null then [Dine In Avg Tip Percentage] Else 0 END) as decimal(18,2)) as 'Dine In Avg Tip Percentage'\r\n",
                "from (\r\n",
                "\tselect ROUND(sum(GratuityAmount)/Count(*),2) as 'Avg Online Pick-up Tips'\r\n",
                "    from dbo.OrderPayment join\r\n",
                "        dbo.OrderList on\r\n",
                "\t\tOrderPayment.OrderId = OrderList.id\r\n",
                "    where OrderPayment.CreatedWhen \r\n",
                "\t\tBETWEEN CONVERT(datetime,'2021-12-01') AND CONVERT(datetime, '2022-01-31 23:59:59')\r\n",
                "        and OrderPayment.PaidMethodName = 'Online Payment'\r\n",
                "        and OrderList.OrderType = '63') as t1\r\n",
                "    full outer join (\r\n",
                "\tselect ROUND((sum(GratuityAmount)/sum(FaceAmount)*100),2) as 'Avg Online Pick-up Tips Percentage'\r\n",
                "    from dbo.OrderPayment join\r\n",
                "        dbo.OrderList on\r\n",
                "\t\tOrderPayment.OrderId = OrderList.id\r\n",
                "    where OrderPayment.CreatedWhen \r\n",
                "\t\tBETWEEN CONVERT(datetime,'2021-12-01') AND CONVERT(datetime, '2022-01-31 23:59:59')\r\n",
                "        and OrderPayment.PaidMethodName = 'Online Payment'\r\n",
                "        and OrderList.OrderType = '63') as t2\r\n",
                "    on t1.[Avg Online Pick-up Tips] = t2.[Avg Online Pick-up Tips Percentage]\r\n",
                "    full outer join (\r\n",
                "\tSELECT ROUND(sum(Orders.GratuityAmount)/COUNT(*),2) as 'Take Out Avg Tip Amount'\r\n",
                "    FROM dbo.OrderPayment AS Orders\r\n",
                "        INNER JOIN dbo.OrderList AS OrderDetails\r\n",
                "        on Orders.OrderId = OrderDetails.id\r\n",
                "    WHERE Orders.CreatedWhen \r\n",
                "\t\tBETWEEN CONVERT(datetime,'2021-12-01') AND CONVERT(datetime, '2022-01-31 23:59:59')\r\n",
                "        AND OrderDetails.OrderType IN (63,4,3)\r\n",
                "        and Orders.PaidMethodName != 'Online Payment') as t3\r\n",
                "    on t2.[Avg Online Pick-up Tips Percentage] = t3.[Take Out Avg Tip Amount]\r\n",
                "    full outer join (\r\n",
                "\tSELECT ROUND((sum(Orders.GratuityAmount)/sum(Orders.FaceAmount)*100),2) as 'Take Out Avg Tip Percentage'\r\n",
                "    FROM dbo.OrderPayment AS Orders\r\n",
                "        INNER JOIN dbo.OrderList AS OrderDetails\r\n",
                "        on Orders.OrderId = OrderDetails.id\r\n",
                "    WHERE Orders.CreatedWhen \r\n",
                "\t\tBETWEEN CONVERT(datetime,'2021-12-01') AND CONVERT(datetime, '2022-01-31 23:59:59')\r\n",
                "        AND OrderDetails.OrderType IN (63,4,3)\r\n",
                "        and Orders.PaidMethodName != 'Online Payment') as t4\r\n",
                "    on t4.[Take Out Avg Tip Percentage] = t3.[Take Out Avg Tip Amount]\r\n",
                "    full outer join (\r\n",
                "\tSELECT ROUND(sum(Orders.GratuityAmount)/COUNT(*),2) as 'Dine In Avg Tip Amount'\r\n",
                "    FROM dbo.OrderPayment AS Orders\r\n",
                "        INNER JOIN dbo.OrderList AS OrderDetails\r\n",
                "        on Orders.OrderId = OrderDetails.id\r\n",
                "    WHERE Orders.CreatedWhen \r\n",
                "\t\tBETWEEN CONVERT(datetime,'2021-12-01') AND CONVERT(datetime, '2022-01-31 23:59:59')\r\n",
                "        AND OrderDetails.OrderType = 1) t5\r\n",
                "    on t4.[Take Out Avg Tip Percentage] = t5.[Dine In Avg Tip Amount]\r\n",
                "    full outer join (\r\n",
                "\tSELECT ROUND((sum(Orders.GratuityAmount)/sum(Orders.FaceAmount)*100),2) as 'Dine In Avg Tip Percentage'\r\n",
                "    FROM dbo.OrderPayment AS Orders\r\n",
                "        INNER JOIN dbo.OrderList AS OrderDetails\r\n",
                "        on Orders.OrderId = OrderDetails.id\r\n",
                "    WHERE Orders.CreatedWhen \r\n",
                "\t\tBETWEEN CONVERT(datetime,'2021-12-01') AND CONVERT(datetime, '2022-01-31 23:59:59')\r\n",
                "        AND OrderDetails.OrderType = 1) as t6\r\n",
                "    on t5.[Dine In Avg Tip Amount] = t6.[Dine In Avg Tip Percentage]"
            ],
            "metadata": {
                "azdata_cell_guid": "cb9b0f8e-f3ee-421c-8a19-899ab19f2c7e"
            },
            "outputs": [
                {
                    "output_type": "display_data",
                    "data": {
                        "text/html": "(1 row affected)"
                    },
                    "metadata": {}
                },
                {
                    "output_type": "display_data",
                    "data": {
                        "text/html": "Total execution time: 00:00:00.095"
                    },
                    "metadata": {}
                },
                {
                    "output_type": "execute_result",
                    "execution_count": 54,
                    "data": {
                        "application/vnd.dataresource+json": {
                            "schema": {
                                "fields": [
                                    {
                                        "name": "Avg Online Pick-up Tips"
                                    },
                                    {
                                        "name": "Avg Online Pick-up Tips Percentage"
                                    },
                                    {
                                        "name": "Take Out Avg Tip Amount"
                                    },
                                    {
                                        "name": "Take Out Avg Tip Percentage"
                                    },
                                    {
                                        "name": "Dine In Avg Tip Amount"
                                    },
                                    {
                                        "name": "Dine In Avg Tip Percentage"
                                    }
                                ]
                            },
                            "data": [
                                {
                                    "0": "4.41",
                                    "1": "9.38",
                                    "2": "2.81",
                                    "3": "7.88",
                                    "4": "5.97",
                                    "5": "10.16"
                                }
                            ]
                        },
                        "text/html": "<table><tr><th>Avg Online Pick-up Tips</th><th>Avg Online Pick-up Tips Percentage</th><th>Take Out Avg Tip Amount</th><th>Take Out Avg Tip Percentage</th><th>Dine In Avg Tip Amount</th><th>Dine In Avg Tip Percentage</th></tr><tr><td>4.41</td><td>9.38</td><td>2.81</td><td>7.88</td><td>5.97</td><td>10.16</td></tr></table>"
                    },
                    "metadata": {}
                }
            ],
            "execution_count": 54
        },
        {
            "cell_type": "markdown",
            "source": [
                "Notes: \n",
                "\n",
                "Take out in this case does not include online pick-up orders.\n",
                "\n",
                "Results: \n",
                "\n",
                "Order from highest to lowest average tips: Dine In \\> Online Pick-Up  \\> Take Out\n",
                "\n",
                "The order of absolute values agree with the order of percentages (there isn't a big gap in order sales between each category)"
            ],
            "metadata": {
                "azdata_cell_guid": "f22e0fef-109f-47cd-b035-0f307cf3838e"
            },
            "attachments": {}
        },
        {
            "cell_type": "markdown",
            "source": [
                "## Finding the amount saved per month by online delivery orders"
            ],
            "metadata": {
                "azdata_cell_guid": "e25d04af-d8dd-413f-aac7-70ac5ba16d9f"
            },
            "attachments": {}
        },
        {
            "cell_type": "code",
            "source": [
                "select\r\n",
                "    sum(FaceAmount)*0.25 as 'Amount Saved'\r\n",
                "from dbo.OrderList as OrderDetails\r\n",
                "    inner join dbo.OrderPayment on\r\n",
                "\tOrderPayment.OrderId = OrderDetails.id\r\n",
                "where OrderPayment.CreatedWhen \r\n",
                "\tBETWEEN CONVERT(datetime,'2021-12-01') AND CONVERT(datetime, '2022-01-31 23:59:59')\r\n",
                "    and OrderType = '62'\r\n",
                "group by OrderDetails.OrderType, OrderDetails.OrderType"
            ],
            "metadata": {
                "azdata_cell_guid": "e35a5644-e098-4060-8bf6-6101a909b162",
                "tags": []
            },
            "outputs": [
                {
                    "output_type": "display_data",
                    "data": {
                        "text/html": "(1 row affected)"
                    },
                    "metadata": {}
                },
                {
                    "output_type": "display_data",
                    "data": {
                        "text/html": "Total execution time: 00:00:00.036"
                    },
                    "metadata": {}
                },
                {
                    "output_type": "execute_result",
                    "execution_count": 36,
                    "data": {
                        "application/vnd.dataresource+json": {
                            "schema": {
                                "fields": [
                                    {
                                        "name": "Amount Saved"
                                    }
                                ]
                            },
                            "data": [
                                {
                                    "0": "339.260000"
                                }
                            ]
                        },
                        "text/html": "<table><tr><th>Amount Saved</th></tr><tr><td>339.260000</td></tr></table>"
                    },
                    "metadata": {}
                }
            ],
            "execution_count": 36
        },
        {
            "cell_type": "markdown",
            "source": [
                "Results:\n",
                "\n",
                "There are about $1360 in online delivery sales. We expect to save about 25% of that when people use our website instead of Doordash or UberEats. There is a 30% cut and we have a cancellation rate between 2% and 5%. We were able to save about $340($1360\\*25%) in December and January off of the online delivery orders."
            ],
            "metadata": {
                "azdata_cell_guid": "a62cea9e-f8eb-4cd5-b707-bd732052627a"
            },
            "attachments": {}
        },
        {
            "cell_type": "markdown",
            "source": [
                "# Conclusion and Insight"
            ],
            "metadata": {
                "azdata_cell_guid": "59e022e6-9009-4972-b3c5-71cd2e6be83c"
            },
            "attachments": {}
        },
        {
            "cell_type": "markdown",
            "source": [
                "Restaurant servers get the most tips from dine in orders at an average of 10.16%. Online pick-up orders are the second to highest order type our servers get at an average of 9.38% per order. Call in take out orders and walk in orders come in last at a low average of 7.88%. We should try to convert as many people as possible to use online pick-up orders. Having customers use our online services is much faster for our servers and they have a higher average tip rate. I believe this is due to the fact we have selectable tip amounts on our website. People are more likely to tip if they are shown preselected options. At this restaurant, we were able to save about $340 since we've had the new online delivery system. There is about a 50%-50% split between take out orders(including online orders) and dine in orders. Before, in August 2021 and September 2021 we've seen that the sales were more centered around dine in orders at about a 60%-40% split. This may be because this analysis is in the middle of winter and people are more likely to order take out or order online when it is cold. We expect more dine in sales when spring arrives and the Boardwalk opens up on weekdays."
            ],
            "metadata": {
                "azdata_cell_guid": "99c7b8f8-f477-44b4-814c-ce05de80b302"
            },
            "attachments": {}
        }
    ]
}